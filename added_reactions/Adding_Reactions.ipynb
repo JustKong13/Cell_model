{
 "metadata": {
  "language_info": {
   "codemirror_mode": {
    "name": "ipython",
    "version": 3
   },
   "file_extension": ".py",
   "mimetype": "text/x-python",
   "name": "python",
   "nbconvert_exporter": "python",
   "pygments_lexer": "ipython3",
   "version": "3.9.4"
  },
  "orig_nbformat": 2,
  "kernelspec": {
   "name": "python394jvsc74a57bd042e6b9f8a7ebf7d457b9c69f28530a1f6c33232356f0dd53bedf1adadbfae877",
   "display_name": "Python 3.9.4 64-bit"
  },
  "metadata": {
   "interpreter": {
    "hash": "42e6b9f8a7ebf7d457b9c69f28530a1f6c33232356f0dd53bedf1adadbfae877"
   }
  }
 },
 "nbformat": 4,
 "nbformat_minor": 2,
 "cells": [
  {
   "cell_type": "code",
   "execution_count": 2,
   "metadata": {},
   "outputs": [],
   "source": [
    "import cobra\n",
    "from cobra import Model, Reaction, Metabolite"
   ]
  },
  {
   "cell_type": "code",
   "execution_count": 3,
   "metadata": {},
   "outputs": [],
   "source": [
    "model = cobra.io.load_json_model(\"iML1515.json\")"
   ]
  },
  {
   "cell_type": "code",
   "execution_count": 5,
   "metadata": {},
   "outputs": [],
   "source": [
    "reaction = Reaction('urcan')\n",
    "reaction.name = 'Test 1'\n",
    "\n",
    "Histidine = model.metabolites.get_by_id('his__L_c')\n",
    "Ammonium = model.metabolites.get_by_id('nh4_c')\n",
    "Urocanate = Metabolite(\n",
    "    'urocanate',\n",
    "    formula = 'C6H5N2O2',\n",
    "    name = 'urocanate',\n",
    "    compartment = 'c')\n",
    "\n",
    "reaction.add_metabolites({\n",
    "    Histidine: -1.0,\n",
    "    Ammonium: 1.0,\n",
    "    Urocanate: 1.0})\n",
    "\n",
    "model.add_reactions([reaction])\n",
    "\n",
    "cobra.io.save_json_model(model, 'iml1515_urcan_reaction.json')"
   ]
  },
  {
   "cell_type": "code",
   "execution_count": null,
   "metadata": {},
   "outputs": [],
   "source": []
  }
 ]
}