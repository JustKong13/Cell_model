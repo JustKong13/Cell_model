{
 "metadata": {
  "language_info": {
   "codemirror_mode": {
    "name": "ipython",
    "version": 3
   },
   "file_extension": ".py",
   "mimetype": "text/x-python",
   "name": "python",
   "nbconvert_exporter": "python",
   "pygments_lexer": "ipython3",
   "version": "3.8.2-final"
  },
  "orig_nbformat": 2,
  "kernelspec": {
   "name": "python3",
   "display_name": "Python 3",
   "language": "python"
  }
 },
 "nbformat": 4,
 "nbformat_minor": 2,
 "cells": [
  {
   "cell_type": "code",
   "execution_count": 1,
   "metadata": {},
   "outputs": [],
   "source": [
    "import cobra\n",
    "from cobra import Metabolite, Reaction"
   ]
  },
  {
   "cell_type": "code",
   "execution_count": 2,
   "metadata": {},
   "outputs": [
    {
     "output_type": "execute_result",
     "data": {
      "text/plain": [
       "0.8769972144269688"
      ]
     },
     "metadata": {},
     "execution_count": 2
    }
   ],
   "source": [
    "model = cobra.io.load_json_model(\"iML1515.json\")\n",
    "model.optimize().objective_value"
   ]
  },
  {
   "cell_type": "code",
   "execution_count": 5,
   "metadata": {},
   "outputs": [
    {
     "output_type": "stream",
     "name": "stderr",
     "text": [
      "Ignoring reaction 'KHK' since it already exists.\n",
      "Ignoring reaction 'R_BIOMASS_Ec_iML1515_core_75p37M' since it already exists.\n"
     ]
    },
    {
     "output_type": "execute_result",
     "data": {
      "text/plain": [
       "0.876997214426965"
      ]
     },
     "metadata": {},
     "execution_count": 5
    }
   ],
   "source": [
    "# f1p reactions\n",
    "atp = model.metabolites.get_by_id(\"atp_c\")\n",
    "fru = model.metabolites.get_by_id(\"fru_c\")\n",
    "adp = model.metabolites.get_by_id(\"adp_c\")\n",
    "f1p = model.metabolites.get_by_id(\"f1p_c\")\n",
    "h = model.metabolites.get_by_id(\"h_c\")\n",
    "\n",
    "khk = Reaction(\"KHK\")\n",
    "khk.name = \"Ketohexokinase\"\n",
    "khk.add_metabolites(\n",
    "    {\n",
    "        adp: 1.0,\n",
    "        atp: -1.0,\n",
    "        f1p: 1.0,\n",
    "        fru: -1.0,\n",
    "        h: 1.0\n",
    "    }\n",
    ")\n",
    "\n",
    "biomass_rxn.add_metabolites(\n",
    "    {\n",
    "        f1p: -0.1030074288\n",
    "    }\n",
    ")\n",
    "\n",
    "model.add_reactions(\n",
    "    [\n",
    "        khk, biomass_rxn\n",
    "    ]\n",
    ")\n",
    "\n",
    "model.optimize().objective_value"
   ]
  },
  {
   "cell_type": "code",
   "execution_count": 4,
   "metadata": {},
   "outputs": [
    {
     "output_type": "execute_result",
     "data": {
      "text/plain": [
       "0.8769972144269657"
      ]
     },
     "metadata": {},
     "execution_count": 4
    }
   ],
   "source": [
    "# myo-inositol reactions\n",
    "mi3p__D = Metabolite(\n",
    "    \"mi3p__D\",\n",
    "    formula=\"C6H11O9P\",\n",
    "    name=\"1D-myo-Inositol (3)-phosphate\",\n",
    "    compartment=\"c\"\n",
    ")\n",
    "g6p = model.metabolites.get_by_id(\"g6p_c\")\n",
    "inost = model.metabolites.get_by_id(\"inost_c\")\n",
    "pi = model.metabolites.get_by_id(\"pi_c\")\n",
    "h2o = model.metabolites.get_by_id(\"h2o_c\")\n",
    "\n",
    "mi3ps = Reaction(\"MI3PS\")\n",
    "mi3ps.name = \"Myo Inositol 1 phosphate synthase\"\n",
    "mi3ps.add_metabolites(\n",
    "    {\n",
    "        g6p: -1.0,\n",
    "        mi3p__D: 1.0\n",
    "    }\n",
    ")\n",
    "\n",
    "mi3pp = Reaction(\"MI3PP\")\n",
    "mi3pp.name = \"Myo-inositol 1-phosphate\"\n",
    "mi3pp.add_metabolites(\n",
    "    {\n",
    "        h2o: -1.0,\n",
    "        mi3p__D: -1.0,\n",
    "        inost: 1.0,\n",
    "        pi: 1.0\n",
    "    }\n",
    ")\n",
    "\n",
    "\n",
    "model.add_reactions(\n",
    "    [\n",
    "        mi3ps, mi3pp\n",
    "    ]\n",
    ")\n",
    "\n",
    "cobra.io.save_json_model(model, \"model/iML1515_inost.json\")\n",
    "model.optimize().objective_value"
   ]
  },
  {
   "cell_type": "code",
   "execution_count": 10,
   "metadata": {},
   "outputs": [
    {
     "output_type": "stream",
     "name": "stderr",
     "text": [
      "Ignoring reaction 'ACES' since it already exists.\n",
      "Ignoring reaction 'CMPACNA_rxn' since it already exists.\n",
      "Ignoring reaction 'R_BIOMASS_Ec_iML1515_core_75p37M' since it already exists.\n"
     ]
    },
    {
     "output_type": "execute_result",
     "data": {
      "text/plain": [
       "0.8769972144269617"
      ]
     },
     "metadata": {},
     "execution_count": 10
    }
   ],
   "source": [
    "# cmpacna reactions\n",
    "\n",
    "\n",
    "# EC number 2.5.1.56 https://biocyc.org/META/NEW-IMAGE?type=REACTION&object=N-ACETYLNEURAMINATE-SYNTHASE-RXN\n",
    "\n",
    "pep = model.metabolites.get_by_id(\"pep_c\")\n",
    "acmana = model.metabolites.get_by_id(\"acmana_c\")\n",
    "h2o = model.metabolites.get_by_id(\"h2o_c\")\n",
    "ncma = Metabolite(\n",
    "    \"ncma_c\",\n",
    "    formula=\"C11H18NO9\",\n",
    "    name=\"N-acetyl-β-neuraminate\",\n",
    "    compartment=\"c\"\n",
    ")\n",
    "pi = model.metabolites.get_by_id(\"pi_c\")\n",
    "\n",
    "N_acetylneuraminate_synthesis_rxn = Reaction(\"ACES\")\n",
    "N_acetylneuraminate_synthesis_rxn.name = \"N-ACETYLNEURAMINATE SYNTHASE RXN\"\n",
    "N_acetylneuraminate_synthesis_rxn.add_metabolites(\n",
    "    {\n",
    "        pep: -1.0,\n",
    "        acmana: -1.0,\n",
    "        h2o: -1.0,\n",
    "        ncma: 1.0,\n",
    "        pi: 1.0\n",
    "    }\n",
    ")\n",
    "\n",
    "\n",
    "\n",
    "# EC number 2.7.7.43 https://biocyc.org/META/NEW-IMAGE?type=REACTION&object=RXN-9990\n",
    "\n",
    "ncma = ncma\n",
    "ctp = model.metabolites.get_by_id(\"ctp_c\")\n",
    "cmpacna = Metabolite(\n",
    "    \"cmpacna\",\n",
    "    formula=\"C20H29N4O16P\",\n",
    "    name=\"CMP-N-acetyl-β-neuraminate\",\n",
    "    compartment=\"c\"\n",
    ")\n",
    "ppi = model.metabolites.get_by_id(\"ppi_c\")\n",
    "\n",
    "cmpacna_production_rxn = Reaction(\"CMPACNA_rxn\")\n",
    "cmpacna_production_rxn.name = \"N-acylneuraminate cytidylyltransferase\"\n",
    "cmpacna_production_rxn.add_metabolites(\n",
    "    {\n",
    "        ncma: -1.0,\n",
    "        ctp: -1.0,\n",
    "        cmpacna: 1.0,\n",
    "        ppi: 1.0\n",
    "\n",
    "    }\n",
    ")\n",
    "\n",
    "\n",
    "# add to biomass\n",
    "\n",
    "biomass_rxn.add_metabolites(\n",
    "    {\n",
    "        cmpacna: -0.1\n",
    "    }\n",
    ")\n",
    "\n",
    "model.add_reactions(\n",
    "    [\n",
    "        N_acetylneuraminate_synthesis_rxn, cmpacna_production_rxn\n",
    "    ]\n",
    ")\n",
    "\n",
    "cobra.io.save_json_model(model, \"iML1515_cmpacna.json\")\n",
    "\n",
    "model.optimize().objective_value"
   ]
  },
  {
   "cell_type": "code",
   "execution_count": null,
   "metadata": {},
   "outputs": [],
   "source": []
  }
 ]
}