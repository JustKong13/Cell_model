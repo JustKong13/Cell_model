{
 "metadata": {
  "language_info": {
   "codemirror_mode": {
    "name": "ipython",
    "version": 3
   },
   "file_extension": ".py",
   "mimetype": "text/x-python",
   "name": "python",
   "nbconvert_exporter": "python",
   "pygments_lexer": "ipython3",
   "version": "3.8.2-final"
  },
  "orig_nbformat": 2,
  "kernelspec": {
   "name": "python3",
   "display_name": "Python 3.8.2 64-bit",
   "metadata": {
    "interpreter": {
     "hash": "916dbcbb3f70747c44a77c7bcd40155683ae19c65e1c03b4aa3499c5328201f1"
    }
   }
  }
 },
 "nbformat": 4,
 "nbformat_minor": 2,
 "cells": [
  {
   "cell_type": "code",
   "execution_count": 1,
   "metadata": {},
   "outputs": [],
   "source": [
    "import cobra\n",
    "from cobra import Metabolite, Reaction\n",
    "from cobra.flux_analysis import parsimonious\n",
    "import pandas as pd\n",
    "import numpy as np"
   ]
  },
  {
   "cell_type": "code",
   "execution_count": 2,
   "metadata": {},
   "outputs": [],
   "source": [
    "original_model = cobra.io.load_json_model(\"iML1515.json\")\n",
    "improved_model = cobra.io.load_json_model(\"\")"
   ]
  },
  {
   "cell_type": "code",
   "execution_count": 4,
   "metadata": {},
   "outputs": [],
   "source": [
    "original_pfba = cobra.flux_analysis.pfba(original_model) # Type: Object {\"reaction_name\": flux}\n",
    "improved_pfba = cobra.flux_analysis.pfba(improved_model) # Type: Object {\"reaction_name\": flux}"
   ]
  },
  {
   "cell_type": "code",
   "execution_count": 5,
   "metadata": {
    "tags": []
   },
   "outputs": [],
   "source": [
    "columns = [\"Reaction Name\", \"Original Flux\", \"Improved Flux\", \"Difference (Improved - Original)\"]\n",
    "rows = []\n",
    "\n",
    "for reaction_name in improved_pfba.fluxes.index:\n",
    "    if reaction_name in original_pfba.fluxes.index:\n",
    "        d = [\n",
    "            str(reaction_name),\n",
    "            original_pfba[reaction_name],\n",
    "            improved_pfba[reaction_name],\n",
    "            abs(improved_pfba[reaction_name]) - abs(original_pfba[reaction_name])\n",
    "        ]\n",
    "\n",
    "        rows.append(d)\n",
    "    else:\n",
    "        d = [\n",
    "            str(reaction_name),\n",
    "            0,\n",
    "            improved_pfba[reaction_name],\n",
    "            improved_pfba[reaction_name]\n",
    "        ]\n",
    "        rows.append(d)\n",
    "\n",
    "dataframe = pd.DataFrame(np.array(rows), columns=columns)\n",
    "dataframe.to_excel(\"test_document.xlsx\", sheet_name=\"f1p\")"
   ]
  },
  {
   "cell_type": "code",
   "execution_count": null,
   "metadata": {},
   "outputs": [],
   "source": []
  }
 ]
}